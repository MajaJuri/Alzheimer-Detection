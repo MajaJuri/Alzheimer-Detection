{
 "cells": [
  {
   "cell_type": "markdown",
   "id": "9beebf6a-8cbd-4b74-9ec7-5a891de535c6",
   "metadata": {},
   "source": [
    "# Detekcija Alzheimerove bolesti na MRI slikama mozga"
   ]
  },
  {
   "cell_type": "code",
   "execution_count": 98,
   "id": "0a29f960-96ce-48b0-837f-582003d4e8e7",
   "metadata": {},
   "outputs": [],
   "source": [
    "import os\n",
    "from glob import glob\n",
    "import cv2\n",
    "import matplotlib.pyplot as plt\n",
    "from tqdm import tqdm\n",
    "from sklearn.model_selection import train_test_split\n",
    "from sklearn.svm import SVC\n",
    "import sklearn.metrics as metrics\n",
    "import numpy as np"
   ]
  },
  {
   "cell_type": "markdown",
   "id": "d040eb3f-22cc-4b48-8a3c-f3e80e6a890c",
   "metadata": {},
   "source": [
    "## Učitavanje podataka"
   ]
  },
  {
   "cell_type": "code",
   "execution_count": 80,
   "id": "e671c682-0ab3-412c-b1d9-9caf0400d629",
   "metadata": {},
   "outputs": [
    {
     "name": "stderr",
     "output_type": "stream",
     "text": [
      "100%|██████████| 896/896 [00:05<00:00, 168.78it/s]\n",
      "100%|██████████| 64/64 [00:00<00:00, 216.71it/s]\n",
      "100%|██████████| 3200/3200 [00:19<00:00, 162.06it/s]\n",
      "100%|██████████| 2240/2240 [00:13<00:00, 161.36it/s]\n"
     ]
    }
   ],
   "source": [
    "labels = ['Mild_Demented', 'Moderate_Demented', 'Non_Demented', 'Very_Mild_Demented']\n",
    "images = []\n",
    "Y = []\n",
    "\n",
    "for label in labels:\n",
    "    folderPath = os.path.join('Data', 'Dataset', label)\n",
    "    for im in tqdm(os.listdir(folderPath)):\n",
    "        images.append(cv2.imread(folderPath + \"\\\\\" + im))\n",
    "        Y.append(label)"
   ]
  },
  {
   "cell_type": "markdown",
   "id": "a1fcfb15-d0cd-41a9-81b6-7ae1406ae27d",
   "metadata": {},
   "source": [
    "## Modeli za detekciju Alzheimerove bolesti"
   ]
  },
  {
   "cell_type": "code",
   "execution_count": 82,
   "id": "099a34c0-5bdf-45d9-bc30-609dbf09d70b",
   "metadata": {},
   "outputs": [],
   "source": [
    "no_alzheimer = []\n",
    "alzheimer = []\n",
    "\n",
    "for image, y in zip(images, Y):\n",
    "    if y == 'Non_Demented':\n",
    "        no_alzheimer.append(image)\n",
    "    else:\n",
    "        alzheimer.append(image)\n",
    "\n",
    "detection_X = no_alzheimer + alzheimer\n",
    "detection_Y = [0] * len(no_alzheimer) + [1] * len(alzheimer)"
   ]
  },
  {
   "cell_type": "markdown",
   "id": "ea721366-2ae8-4f09-8396-217421a2483f",
   "metadata": {},
   "source": [
    "Podjela podataka na skup za treniranje i testiranje"
   ]
  },
  {
   "cell_type": "code",
   "execution_count": 85,
   "id": "b74899cd-ed18-4d79-9d26-824ae7e0e7f5",
   "metadata": {},
   "outputs": [],
   "source": [
    "X_train, X_test, Y_train, Y_test = train_test_split(detection_X, detection_Y, train_size = 0.75, stratify = Y, shuffle = True, random_state=357)"
   ]
  },
  {
   "cell_type": "markdown",
   "id": "4227977b-7e9a-40e6-a81f-441fab398baa",
   "metadata": {},
   "source": [
    "### 1. SVM"
   ]
  },
  {
   "cell_type": "code",
   "execution_count": 90,
   "id": "42df17d1-e64e-4122-aea0-4f6bd3b33aae",
   "metadata": {},
   "outputs": [],
   "source": [
    "svm_model = SVC(kernel='linear')\n",
    "X_train = np.array(X_train).reshape(len(X_train), -1)\n",
    "svm_model.fit(X_train, Y_train)\n",
    "\n",
    "Y_predicted_1 = svm_model.predict(X_train)"
   ]
  },
  {
   "cell_type": "code",
   "execution_count": 91,
   "id": "821e1442-f4fd-4ffd-a14c-bfc8acd4f93a",
   "metadata": {},
   "outputs": [
    {
     "name": "stdout",
     "output_type": "stream",
     "text": [
      "Accuracy :  1.0\n",
      "Precision :  1.0\n",
      "Recall :  1.0\n",
      "f1 :  1.0\n",
      "Confusion matrix : [[2410    0]\n",
      " [   0 2390]]\n"
     ]
    }
   ],
   "source": [
    "print('Accuracy : ', metrics.accuracy_score(Y_train, Y_predicted_1))\n",
    "print('Precision : ', metrics.precision_score(Y_train, Y_predicted_1))\n",
    "print('Recall : ', metrics.recall_score(Y_train, Y_predicted_1))\n",
    "print('f1 : ', metrics.f1_score(Y_train, Y_predicted_1)) \n",
    "print('Confusion matrix :', metrics.confusion_matrix(Y_train, Y_predicted_1))"
   ]
  },
  {
   "cell_type": "code",
   "execution_count": 96,
   "id": "501d941b-3072-4ed9-a57c-1e96853e5aa1",
   "metadata": {},
   "outputs": [],
   "source": [
    "X_test = np.array(X_test).reshape(len(X_test), -1)\n",
    "Y_predicted_2 = svm_model.predict(X_test)"
   ]
  },
  {
   "cell_type": "code",
   "execution_count": 101,
   "id": "06838005-b800-4425-94da-924a8e6ad6af",
   "metadata": {},
   "outputs": [
    {
     "name": "stdout",
     "output_type": "stream",
     "text": [
      "              precision    recall  f1-score   support\n",
      "\n",
      "           0       0.98      0.98      0.98       790\n",
      "           1       0.98      0.98      0.98       810\n",
      "\n",
      "    accuracy                           0.98      1600\n",
      "   macro avg       0.98      0.98      0.98      1600\n",
      "weighted avg       0.98      0.98      0.98      1600\n",
      "\n"
     ]
    }
   ],
   "source": [
    "print(metrics.classification_report(Y_test, Y_predicted_2))"
   ]
  },
  {
   "cell_type": "markdown",
   "id": "eac6cfb5-2be1-478c-8eb3-0762d307f156",
   "metadata": {},
   "source": [
    "### 2. "
   ]
  }
 ],
 "metadata": {
  "kernelspec": {
   "display_name": "Python 3 (ipykernel)",
   "language": "python",
   "name": "python3"
  },
  "language_info": {
   "codemirror_mode": {
    "name": "ipython",
    "version": 3
   },
   "file_extension": ".py",
   "mimetype": "text/x-python",
   "name": "python",
   "nbconvert_exporter": "python",
   "pygments_lexer": "ipython3",
   "version": "3.11.5"
  }
 },
 "nbformat": 4,
 "nbformat_minor": 5
}
